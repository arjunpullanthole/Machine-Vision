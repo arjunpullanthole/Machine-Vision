{
  "nbformat": 4,
  "nbformat_minor": 0,
  "metadata": {
    "colab": {
      "name": "MV Assignment 2.ipynb",
      "provenance": [],
      "collapsed_sections": [],
      "authorship_tag": "ABX9TyO6oJueV0EvvyqL1I9N2wBu",
      "include_colab_link": true
    },
    "kernelspec": {
      "display_name": "Python 3",
      "name": "python3"
    },
    "language_info": {
      "name": "python"
    }
  },
  "cells": [
    {
      "cell_type": "markdown",
      "metadata": {
        "id": "view-in-github",
        "colab_type": "text"
      },
      "source": [
        "<a href=\"https://colab.research.google.com/github/arjunpullanthole/Machine-Vision/blob/main/Optimizer%20Analysis.ipynb\" target=\"_parent\"><img src=\"https://colab.research.google.com/assets/colab-badge.svg\" alt=\"Open In Colab\"/></a>"
      ]
    },
    {
      "cell_type": "code",
      "metadata": {
        "id": "3Q557uBkdDx1"
      },
      "source": [
        "import numpy as np                   # advanced math library\n",
        "import matplotlib.pyplot as plt      # MATLAB like plotting routines\n",
        "import random                        # for generating random numbers\n",
        "import tensorflow as tf\n",
        "import keras\n",
        "import time\n",
        "from keras.datasets import cifar     # MNIST dataset is included in Keras\n",
        "from keras.models import Sequential  # Model type to be used\n",
        "from keras.layers.core import Dense, Dropout, Activation # Types of layers to be used in our model\n",
        "from keras.utils import np_utils                         # NumPy related tools\n",
        "\n",
        "(X_train, Y_train), (X_test, Y_test) = tf.keras.datasets.cifar10.load_data()\n",
        "\n",
        "X_train = X_train.reshape(50000, 3072) # reshape 60,000 28 x 28 matrices\n",
        "X_test = X_test.reshape(10000, 3072)   # reshape 10,000 28 x 28 matrices \n",
        "\n",
        "X_train = X_train.astype('float32')   # change integers to 32-bit floating point numbers\n",
        "X_test = X_test.astype('float32')\n",
        "\n",
        "X_train /= 255                        # normalize each value for each pixel for the entire vector for each input\n",
        "X_test /= 255\n",
        "\n",
        "nb_classes = 10 # number of unique digits\n",
        "\n",
        "Y_train = np_utils.to_categorical(Y_train, nb_classes)\n",
        "Y_test = np_utils.to_categorical(Y_test, nb_classes)\n",
        "\n",
        "model_adam = Sequential()\n",
        "model_sgd = Sequential()\n",
        "model_adadelta = Sequential()\n",
        "model_rmsprop = Sequential()\n",
        "\n",
        "model_adam.add(Dense(512, input_shape=(3072,)))\n",
        "model_adam.add(Activation('sigmoid'))\n",
        "model_adam.add(Dropout(0.2))\n",
        "model_adam.add(Dense(512))\n",
        "model_adam.add(Activation('sigmoid'))\n",
        "model_adam.add(Dropout(0.2))\n",
        "model_adam.add(Dense(10))\n",
        "model_adam.add(Activation('sigmoid'))\n",
        "model_adam.summary()\n",
        "\n",
        "model_sgd.add(Dense(512, input_shape=(3072,)))\n",
        "model_sgd.add(Activation('sigmoid'))\n",
        "model_sgd.add(Dropout(0.2))\n",
        "model_sgd.add(Dense(512))\n",
        "model_sgd.add(Activation('sigmoid'))\n",
        "model_sgd.add(Dropout(0.2))\n",
        "model_sgd.add(Dense(10))\n",
        "model_sgd.add(Activation('sigmoid'))\n",
        "model_sgd.summary()\n",
        "\n",
        "model_adadelta.add(Dense(512, input_shape=(3072,)))\n",
        "model_adadelta.add(Activation('sigmoid'))\n",
        "model_adadelta.add(Dropout(0.2))\n",
        "model_adadelta.add(Dense(512))\n",
        "model_adadelta.add(Activation('sigmoid'))\n",
        "model_adadelta.add(Dropout(0.2))\n",
        "model_adadelta.add(Dense(10))\n",
        "model_adadelta.add(Activation('sigmoid'))\n",
        "model_adadelta.summary()\n",
        "\n",
        "model_rmsprop.add(Dense(512, input_shape=(3072,)))\n",
        "model_rmsprop.add(Activation('sigmoid'))\n",
        "model_rmsprop.add(Dropout(0.2))\n",
        "model_rmsprop.add(Dense(512))\n",
        "model_rmsprop.add(Activation('sigmoid'))\n",
        "model_rmsprop.add(Dropout(0.2))\n",
        "model_rmsprop.add(Dense(10))\n",
        "model_rmsprop.add(Activation('sigmoid'))\n",
        "model_rmsprop.summary()\n",
        "\n",
        "\n",
        "model_adam.compile(loss='categorical_crossentropy', optimizer='adam', metrics=['accuracy'])\n",
        "model_sgd.compile(loss='categorical_crossentropy', optimizer='sgd', metrics=['accuracy'])\n",
        "model_adadelta.compile(loss='categorical_crossentropy', optimizer='adadelta', metrics=['accuracy'])\n",
        "model_rmsprop.compile(loss='categorical_crossentropy', optimizer='rmsprop', metrics=['accuracy'])\n"
      ],
      "execution_count": null,
      "outputs": []
    },
    {
      "cell_type": "code",
      "metadata": {
        "colab": {
          "background_save": true
        },
        "id": "vU4O_gnnyCLH"
      },
      "source": [
        "#model.fit(X_train, Y_train,batch_size=128, epochs=100,verbose=1)\n",
        "\n",
        "start_time = time.time()\n",
        "model_adam.fit(X_train, Y_train, batch_size=128, epochs=100, verbose=2, callbacks = [keras.callbacks.ModelCheckpoint( './', monitor='val_loss', verbose=0, save_best_only=True, mode='auto')])\n",
        "print(\"Model Took --- %s seconds ---\" % (time.time() - start_time))\n",
        "score = model_adam.evaluate(X_test, Y_test)\n",
        "print('Test score:', score[0])\n",
        "print('Test accuracy:', score[1])\n",
        "\n",
        "start_time = time.time()\n",
        "model_sgd.fit(X_train, Y_train, batch_size=128, epochs=100, verbose=2, callbacks = [keras.callbacks.ModelCheckpoint( './', monitor='val_loss', verbose=0, save_best_only=True, mode='auto')])\n",
        "print(\"Model Took --- %s seconds ---\" % (time.time() - start_time))\n",
        "score = model_sgd.evaluate(X_test, Y_test)\n",
        "print('Test score:', score[0])\n",
        "print('Test accuracy:', score[1])\n",
        "\n",
        "start_time = time.time()\n",
        "model_adadelta.fit(X_train, Y_train, batch_size=128, epochs=100, verbose=2, callbacks = [keras.callbacks.ModelCheckpoint( './', monitor='val_loss', verbose=0, save_best_only=True, mode='auto')])\n",
        "print(\"Model Took --- %s seconds ---\" % (time.time() - start_time))\n",
        "score = model_adadelta.evaluate(X_test, Y_test)\n",
        "print('Test score:', score[0])\n",
        "print('Test accuracy:', score[1])\n",
        "\n",
        "start_time = time.time()\n",
        "model_rmsprop.fit(X_train, Y_train, batch_size=128, epochs=100, verbose=2, callbacks = [keras.callbacks.ModelCheckpoint( './', monitor='val_loss', verbose=0, save_best_only=True, mode='auto')])\n",
        "print(\"Model Took --- %s seconds ---\" % (time.time() - start_time))\n",
        "score = model_rmsprop.evaluate(X_test, Y_test)\n",
        "print('Test score:', score[0])\n",
        "print('Test accuracy:', score[1])\n",
        "\n"
      ],
      "execution_count": null,
      "outputs": []
    }
  ]
}